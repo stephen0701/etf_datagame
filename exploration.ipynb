{
 "cells": [
  {
   "cell_type": "code",
   "execution_count": 5,
   "metadata": {},
   "outputs": [],
   "source": [
    "import numpy as np\n",
    "import pandas as pd\n",
    "import chardet"
   ]
  },
  {
   "cell_type": "markdown",
   "metadata": {},
   "source": [
    "# Read files"
   ]
  },
  {
   "cell_type": "markdown",
   "metadata": {},
   "source": [
    "Note:  \n",
    "The etf.csv file is encoded in __big5__  \n",
    "The share.csv file is encoded in __big5hkscs__"
   ]
  },
  {
   "cell_type": "code",
   "execution_count": 58,
   "metadata": {},
   "outputs": [
    {
     "name": "stdout",
     "output_type": "stream",
     "text": [
      "ETF data size: 18747\n"
     ]
    },
    {
     "data": {
      "text/html": [
       "<div>\n",
       "<style scoped>\n",
       "    .dataframe tbody tr th:only-of-type {\n",
       "        vertical-align: middle;\n",
       "    }\n",
       "\n",
       "    .dataframe tbody tr th {\n",
       "        vertical-align: top;\n",
       "    }\n",
       "\n",
       "    .dataframe thead th {\n",
       "        text-align: right;\n",
       "    }\n",
       "</style>\n",
       "<table border=\"1\" class=\"dataframe\">\n",
       "  <thead>\n",
       "    <tr style=\"text-align: right;\">\n",
       "      <th></th>\n",
       "      <th>代碼</th>\n",
       "      <th>日期</th>\n",
       "      <th>中文簡稱</th>\n",
       "      <th>開盤價(元)</th>\n",
       "      <th>最高價(元)</th>\n",
       "      <th>最低價(元)</th>\n",
       "      <th>收盤價(元)</th>\n",
       "      <th>成交張數(張)</th>\n",
       "    </tr>\n",
       "  </thead>\n",
       "  <tbody>\n",
       "    <tr>\n",
       "      <th>0</th>\n",
       "      <td>50</td>\n",
       "      <td>20130102</td>\n",
       "      <td>元大台灣50</td>\n",
       "      <td>54.00</td>\n",
       "      <td>54.65</td>\n",
       "      <td>53.90</td>\n",
       "      <td>54.40</td>\n",
       "      <td>16,487</td>\n",
       "    </tr>\n",
       "    <tr>\n",
       "      <th>1</th>\n",
       "      <td>50</td>\n",
       "      <td>20130103</td>\n",
       "      <td>元大台灣50</td>\n",
       "      <td>54.90</td>\n",
       "      <td>55.05</td>\n",
       "      <td>54.65</td>\n",
       "      <td>54.85</td>\n",
       "      <td>29,020</td>\n",
       "    </tr>\n",
       "    <tr>\n",
       "      <th>2</th>\n",
       "      <td>50</td>\n",
       "      <td>20130104</td>\n",
       "      <td>元大台灣50</td>\n",
       "      <td>54.85</td>\n",
       "      <td>54.85</td>\n",
       "      <td>54.40</td>\n",
       "      <td>54.50</td>\n",
       "      <td>9,837</td>\n",
       "    </tr>\n",
       "    <tr>\n",
       "      <th>3</th>\n",
       "      <td>50</td>\n",
       "      <td>20130107</td>\n",
       "      <td>元大台灣50</td>\n",
       "      <td>54.55</td>\n",
       "      <td>54.55</td>\n",
       "      <td>53.90</td>\n",
       "      <td>54.25</td>\n",
       "      <td>8,910</td>\n",
       "    </tr>\n",
       "    <tr>\n",
       "      <th>4</th>\n",
       "      <td>50</td>\n",
       "      <td>20130108</td>\n",
       "      <td>元大台灣50</td>\n",
       "      <td>54.00</td>\n",
       "      <td>54.20</td>\n",
       "      <td>53.65</td>\n",
       "      <td>53.90</td>\n",
       "      <td>12,507</td>\n",
       "    </tr>\n",
       "  </tbody>\n",
       "</table>\n",
       "</div>"
      ],
      "text/plain": [
       "   代碼        日期              中文簡稱  開盤價(元)  最高價(元)  最低價(元)  收盤價(元)      成交張數(張)\n",
       "0  50  20130102  元大台灣50             54.00   54.65   53.90   54.40       16,487\n",
       "1  50  20130103  元大台灣50             54.90   55.05   54.65   54.85       29,020\n",
       "2  50  20130104  元大台灣50             54.85   54.85   54.40   54.50        9,837\n",
       "3  50  20130107  元大台灣50             54.55   54.55   53.90   54.25        8,910\n",
       "4  50  20130108  元大台灣50             54.00   54.20   53.65   53.90       12,507"
      ]
     },
     "execution_count": 58,
     "metadata": {},
     "output_type": "execute_result"
    }
   ],
   "source": [
    "df_etf = pd.read_csv('./DataSet_20180331/tetfp.csv', encoding='big5')\n",
    "print(\"ETF data size: {}\".format(df_etf.shape[0]))\n",
    "df_etf.head()"
   ]
  },
  {
   "cell_type": "code",
   "execution_count": 60,
   "metadata": {},
   "outputs": [
    {
     "name": "stdout",
     "output_type": "stream",
     "text": [
      "Share data size: 1983973\n"
     ]
    },
    {
     "name": "stderr",
     "output_type": "stream",
     "text": [
      "/usr/local/lib/python3.6/dist-packages/IPython/core/interactiveshell.py:2728: DtypeWarning: Columns (3,4,5,6) have mixed types. Specify dtype option on import or set low_memory=False.\n",
      "  interactivity=interactivity, compiler=compiler, result=result)\n"
     ]
    },
    {
     "data": {
      "text/html": [
       "<div>\n",
       "<style scoped>\n",
       "    .dataframe tbody tr th:only-of-type {\n",
       "        vertical-align: middle;\n",
       "    }\n",
       "\n",
       "    .dataframe tbody tr th {\n",
       "        vertical-align: top;\n",
       "    }\n",
       "\n",
       "    .dataframe thead th {\n",
       "        text-align: right;\n",
       "    }\n",
       "</style>\n",
       "<table border=\"1\" class=\"dataframe\">\n",
       "  <thead>\n",
       "    <tr style=\"text-align: right;\">\n",
       "      <th></th>\n",
       "      <th>代碼</th>\n",
       "      <th>日期</th>\n",
       "      <th>中文簡稱</th>\n",
       "      <th>開盤價(元)</th>\n",
       "      <th>最高價(元)</th>\n",
       "      <th>最低價(元)</th>\n",
       "      <th>收盤價(元)</th>\n",
       "      <th>成交張數(張)</th>\n",
       "    </tr>\n",
       "  </thead>\n",
       "  <tbody>\n",
       "    <tr>\n",
       "      <th>0</th>\n",
       "      <td>1101</td>\n",
       "      <td>20130102</td>\n",
       "      <td>台泥</td>\n",
       "      <td>38.95</td>\n",
       "      <td>39.1</td>\n",
       "      <td>38.65</td>\n",
       "      <td>39</td>\n",
       "      <td>6,374</td>\n",
       "    </tr>\n",
       "    <tr>\n",
       "      <th>1</th>\n",
       "      <td>1101</td>\n",
       "      <td>20130103</td>\n",
       "      <td>台泥</td>\n",
       "      <td>39.5</td>\n",
       "      <td>39.5</td>\n",
       "      <td>38.75</td>\n",
       "      <td>38.85</td>\n",
       "      <td>9,710</td>\n",
       "    </tr>\n",
       "    <tr>\n",
       "      <th>2</th>\n",
       "      <td>1101</td>\n",
       "      <td>20130104</td>\n",
       "      <td>台泥</td>\n",
       "      <td>39.4</td>\n",
       "      <td>39.45</td>\n",
       "      <td>38.6</td>\n",
       "      <td>39</td>\n",
       "      <td>8,682</td>\n",
       "    </tr>\n",
       "    <tr>\n",
       "      <th>3</th>\n",
       "      <td>1101</td>\n",
       "      <td>20130107</td>\n",
       "      <td>台泥</td>\n",
       "      <td>39.1</td>\n",
       "      <td>39.1</td>\n",
       "      <td>38.65</td>\n",
       "      <td>38.9</td>\n",
       "      <td>5,067</td>\n",
       "    </tr>\n",
       "    <tr>\n",
       "      <th>4</th>\n",
       "      <td>1101</td>\n",
       "      <td>20130108</td>\n",
       "      <td>台泥</td>\n",
       "      <td>38.9</td>\n",
       "      <td>39.1</td>\n",
       "      <td>38.2</td>\n",
       "      <td>38.5</td>\n",
       "      <td>6,454</td>\n",
       "    </tr>\n",
       "  </tbody>\n",
       "</table>\n",
       "</div>"
      ],
      "text/plain": [
       "     代碼        日期                中文簡稱 開盤價(元) 最高價(元) 最低價(元) 收盤價(元)      成交張數(張)\n",
       "0  1101  20130102  台泥                  38.95   39.1  38.65     39        6,374\n",
       "1  1101  20130103  台泥                   39.5   39.5  38.75  38.85        9,710\n",
       "2  1101  20130104  台泥                   39.4  39.45   38.6     39        8,682\n",
       "3  1101  20130107  台泥                   39.1   39.1  38.65   38.9        5,067\n",
       "4  1101  20130108  台泥                   38.9   39.1   38.2   38.5        6,454"
      ]
     },
     "execution_count": 60,
     "metadata": {},
     "output_type": "execute_result"
    }
   ],
   "source": [
    "df_share = pd.read_csv('./DataSet_20180331/tsharep.csv', encoding='big5hkscs')\n",
    "print(\"Share data size: {}\".format(df_share.shape[0]))\n",
    "df_share.head()"
   ]
  },
  {
   "cell_type": "markdown",
   "metadata": {},
   "source": [
    "# Data Exploration"
   ]
  },
  {
   "cell_type": "code",
   "execution_count": 52,
   "metadata": {},
   "outputs": [
    {
     "data": {
      "text/plain": [
       "(1684,)"
      ]
     },
     "execution_count": 52,
     "metadata": {},
     "output_type": "execute_result"
    }
   ],
   "source": [
    "df_tsharep['中文簡稱'].unique().shape"
   ]
  }
 ],
 "metadata": {
  "kernelspec": {
   "display_name": "Python 3",
   "language": "python",
   "name": "python3"
  },
  "language_info": {
   "codemirror_mode": {
    "name": "ipython",
    "version": 3
   },
   "file_extension": ".py",
   "mimetype": "text/x-python",
   "name": "python",
   "nbconvert_exporter": "python",
   "pygments_lexer": "ipython3",
   "version": "3.6.3"
  }
 },
 "nbformat": 4,
 "nbformat_minor": 2
}
